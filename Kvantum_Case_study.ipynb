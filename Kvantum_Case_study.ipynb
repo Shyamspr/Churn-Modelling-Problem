{
 "cells": [
  {
   "cell_type": "code",
   "execution_count": 1,
   "metadata": {},
   "outputs": [
    {
     "name": "stderr",
     "output_type": "stream",
     "text": [
      "C:\\Users\\Shyamprasad\\Anaconda3\\lib\\site-packages\\h5py\\__init__.py:36: FutureWarning: Conversion of the second argument of issubdtype from `float` to `np.floating` is deprecated. In future, it will be treated as `np.float64 == np.dtype(float).type`.\n",
      "  from ._conv import register_converters as _register_converters\n"
     ]
    }
   ],
   "source": [
    "import numpy as np\n",
    "import pandas as pd\n",
    "import tensorflow as tf\n",
    "import matplotlib.pyplot as plt\n",
    "%matplotlib inline"
   ]
  },
  {
   "cell_type": "code",
   "execution_count": 2,
   "metadata": {},
   "outputs": [],
   "source": [
    "data = pd.read_csv('case_Study_032019.csv', index_col=['f1','f2','f3','f4','f5','f6', 'f7'])"
   ]
  },
  {
   "cell_type": "code",
   "execution_count": 3,
   "metadata": {},
   "outputs": [
    {
     "data": {
      "text/html": [
       "<div>\n",
       "<style scoped>\n",
       "    .dataframe tbody tr th:only-of-type {\n",
       "        vertical-align: middle;\n",
       "    }\n",
       "\n",
       "    .dataframe tbody tr th {\n",
       "        vertical-align: top;\n",
       "    }\n",
       "\n",
       "    .dataframe thead th {\n",
       "        text-align: right;\n",
       "    }\n",
       "</style>\n",
       "<table border=\"1\" class=\"dataframe\">\n",
       "  <thead>\n",
       "    <tr style=\"text-align: right;\">\n",
       "      <th></th>\n",
       "      <th></th>\n",
       "      <th></th>\n",
       "      <th></th>\n",
       "      <th></th>\n",
       "      <th></th>\n",
       "      <th></th>\n",
       "      <th>target</th>\n",
       "    </tr>\n",
       "    <tr>\n",
       "      <th>f1</th>\n",
       "      <th>f2</th>\n",
       "      <th>f3</th>\n",
       "      <th>f4</th>\n",
       "      <th>f5</th>\n",
       "      <th>f6</th>\n",
       "      <th>f7</th>\n",
       "      <th></th>\n",
       "    </tr>\n",
       "  </thead>\n",
       "  <tbody>\n",
       "    <tr>\n",
       "      <th>9347.14</th>\n",
       "      <th>700.004090</th>\n",
       "      <th>208.734380</th>\n",
       "      <th>7</th>\n",
       "      <th>954976</th>\n",
       "      <th>9140</th>\n",
       "      <th>76810</th>\n",
       "      <td>12577612.45</td>\n",
       "    </tr>\n",
       "    <tr>\n",
       "      <th>9141.69</th>\n",
       "      <th>705.182962</th>\n",
       "      <th>203.127791</th>\n",
       "      <th>0</th>\n",
       "      <th>146993</th>\n",
       "      <th>8791</th>\n",
       "      <th>59183</th>\n",
       "      <td>11582947.44</td>\n",
       "    </tr>\n",
       "    <tr>\n",
       "      <th>9561.76</th>\n",
       "      <th>703.794276</th>\n",
       "      <th>202.746595</th>\n",
       "      <th>0</th>\n",
       "      <th>402416</th>\n",
       "      <th>5124</th>\n",
       "      <th>31203</th>\n",
       "      <td>12528536.47</td>\n",
       "    </tr>\n",
       "    <tr>\n",
       "      <th>9340.60</th>\n",
       "      <th>707.865745</th>\n",
       "      <th>203.925955</th>\n",
       "      <th>0</th>\n",
       "      <th>778496</th>\n",
       "      <th>2758</th>\n",
       "      <th>54204</th>\n",
       "      <td>13731486.78</td>\n",
       "    </tr>\n",
       "    <tr>\n",
       "      <th>9391.46</th>\n",
       "      <th>709.130852</th>\n",
       "      <th>202.010619</th>\n",
       "      <th>0</th>\n",
       "      <th>573005</th>\n",
       "      <th>7051</th>\n",
       "      <th>22376</th>\n",
       "      <td>14136811.35</td>\n",
       "    </tr>\n",
       "  </tbody>\n",
       "</table>\n",
       "</div>"
      ],
      "text/plain": [
       "                                                         target\n",
       "f1      f2         f3         f4 f5     f6   f7                \n",
       "9347.14 700.004090 208.734380 7  954976 9140 76810  12577612.45\n",
       "9141.69 705.182962 203.127791 0  146993 8791 59183  11582947.44\n",
       "9561.76 703.794276 202.746595 0  402416 5124 31203  12528536.47\n",
       "9340.60 707.865745 203.925955 0  778496 2758 54204  13731486.78\n",
       "9391.46 709.130852 202.010619 0  573005 7051 22376  14136811.35"
      ]
     },
     "execution_count": 3,
     "metadata": {},
     "output_type": "execute_result"
    }
   ],
   "source": [
    "data.head()"
   ]
  },
  {
   "cell_type": "code",
   "execution_count": 4,
   "metadata": {},
   "outputs": [
    {
     "data": {
      "text/plain": [
       "<matplotlib.axes._subplots.AxesSubplot at 0x16b0bc80208>"
      ]
     },
     "execution_count": 4,
     "metadata": {},
     "output_type": "execute_result"
    },
    {
     "data": {
      "image/png": "[encoded data removed]",
      "text/plain": [
       "<Figure size 432x288 with 1 Axes>"
      ]
     },
     "metadata": {},
     "output_type": "display_data"
    }
   ],
   "source": [
    "data.plot()"
   ]
  },
  {
   "cell_type": "markdown",
   "metadata": {},
   "source": [
    "# Train Test Split"
   ]
  },
  {
   "cell_type": "code",
   "execution_count": 5,
   "metadata": {},
   "outputs": [
    {
     "name": "stdout",
     "output_type": "stream",
     "text": [
      "<class 'pandas.core.frame.DataFrame'>\n",
      "MultiIndex: 51 entries, (9347.14, 700.0040896, 208.7343801, 7, 954976, 9140, 76810) to (9874.2, 306.63810789999997, 204.0777415, 0, 425708, 9508, 22263)\n",
      "Data columns (total 1 columns):\n",
      "target    51 non-null float64\n",
      "dtypes: float64(1)\n",
      "memory usage: 3.4 KB\n"
     ]
    }
   ],
   "source": [
    "data.info()"
   ]
  },
  {
   "cell_type": "markdown",
   "metadata": {},
   "source": [
    "We have total of 51 rows, Here I am Taking last 30% rows as test data"
   ]
  },
  {
   "cell_type": "code",
   "execution_count": 6,
   "metadata": {},
   "outputs": [
    {
     "data": {
      "text/plain": [
       "15.3"
      ]
     },
     "execution_count": 6,
     "metadata": {},
     "output_type": "execute_result"
    }
   ],
   "source": [
    "(51/100)*30"
   ]
  },
  {
   "cell_type": "code",
   "execution_count": 7,
   "metadata": {},
   "outputs": [
    {
     "data": {
      "text/plain": [
       "36"
      ]
     },
     "execution_count": 7,
     "metadata": {},
     "output_type": "execute_result"
    }
   ],
   "source": [
    "51-15"
   ]
  },
  {
   "cell_type": "markdown",
   "metadata": {},
   "source": [
    "So here Iam taking last 15 rows as testing data"
   ]
  },
  {
   "cell_type": "code",
   "execution_count": 8,
   "metadata": {},
   "outputs": [],
   "source": [
    "train_set = data.head(36)"
   ]
  },
  {
   "cell_type": "code",
   "execution_count": 9,
   "metadata": {},
   "outputs": [],
   "source": [
    "test_set = data.tail(15)"
   ]
  },
  {
   "cell_type": "markdown",
   "metadata": {},
   "source": [
    "### Scale the Data"
   ]
  },
  {
   "cell_type": "code",
   "execution_count": 10,
   "metadata": {},
   "outputs": [],
   "source": [
    "from sklearn.preprocessing import MinMaxScaler"
   ]
  },
  {
   "cell_type": "code",
   "execution_count": 11,
   "metadata": {},
   "outputs": [],
   "source": [
    "scaler = MinMaxScaler()"
   ]
  },
  {
   "cell_type": "code",
   "execution_count": 12,
   "metadata": {},
   "outputs": [],
   "source": [
    "train_scaled = scaler.fit_transform(train_set)"
   ]
  },
  {
   "cell_type": "code",
   "execution_count": 13,
   "metadata": {},
   "outputs": [],
   "source": [
    "test_scaled = scaler.transform(test_set)"
   ]
  },
  {
   "cell_type": "markdown",
   "metadata": {},
   "source": [
    "## Batch Function"
   ]
  },
  {
   "cell_type": "code",
   "execution_count": 14,
   "metadata": {},
   "outputs": [],
   "source": [
    "def next_batch(training_data,batch_size,steps):\n",
    "    \n",
    "    \n",
    "    # For a random starting point for each batch\n",
    "    rand_start = np.random.randint(0,len(training_data)-steps) \n",
    "\n",
    "    # Create Y data for  series in the batches\n",
    "    y_batch = np.array(training_data[rand_start:rand_start+steps+1]).reshape(1,steps+1)\n",
    "\n",
    "    return y_batch[:, :-1].reshape(-1, steps, 1), y_batch[:, 1:].reshape(-1, steps, 1) "
   ]
  },
  {
   "cell_type": "markdown",
   "metadata": {},
   "source": [
    "## Setting Up The RNN Model"
   ]
  },
  {
   "cell_type": "code",
   "execution_count": 15,
   "metadata": {},
   "outputs": [],
   "source": [
    "# Just one feature, the series\n",
    "num_inputs = 1\n",
    "# Num of steps in each batch\n",
    "num_time_steps = 15\n",
    "# 100 neuron layer, play with this\n",
    "num_neurons = 100\n",
    "# output to be predicted \n",
    "num_outputs = 1\n",
    "\n",
    "# learning rate \n",
    "learning_rate = 0.03 \n",
    "# how many iterations to go through (training steps)\n",
    "num_train_iterations = 4000\n",
    "# Size of the batch of data\n",
    "batch_size = 1"
   ]
  },
  {
   "cell_type": "markdown",
   "metadata": {},
   "source": [
    "Create Placeholders for X and y."
   ]
  },
  {
   "cell_type": "code",
   "execution_count": 16,
   "metadata": {},
   "outputs": [],
   "source": [
    "X = tf.placeholder(tf.float32, [None, num_time_steps, num_inputs])\n",
    "y = tf.placeholder(tf.float32, [None, num_time_steps, num_outputs])"
   ]
  },
  {
   "cell_type": "code",
   "execution_count": 17,
   "metadata": {},
   "outputs": [
    {
     "name": "stdout",
     "output_type": "stream",
     "text": [
      "WARNING:tensorflow:From <ipython-input-17-ebb6f93a2258>:3: BasicLSTMCell.__init__ (from tensorflow.python.ops.rnn_cell_impl) is deprecated and will be removed in a future version.\n",
      "Instructions for updating:\n",
      "This class is deprecated, please use tf.nn.rnn_cell.LSTMCell, which supports all the feature this cell currently has. Please replace the existing code with tf.nn.rnn_cell.LSTMCell(name='basic_lstm_cell').\n"
     ]
    }
   ],
   "source": [
    "# Also play around with GRUCell\n",
    "cell = tf.contrib.rnn.OutputProjectionWrapper(\n",
    "    tf.contrib.rnn.BasicLSTMCell(num_units=num_neurons, activation=tf.nn.relu),\n",
    "    output_size=num_outputs) "
   ]
  },
  {
   "cell_type": "markdown",
   "metadata": {},
   "source": [
    "** Now pass in the cells variable into tf.nn.dynamic_rnn, along with your first placeholder (X)**"
   ]
  },
  {
   "cell_type": "code",
   "execution_count": 18,
   "metadata": {},
   "outputs": [],
   "source": [
    "outputs, states = tf.nn.dynamic_rnn(cell, X, dtype=tf.float32)"
   ]
  },
  {
   "cell_type": "markdown",
   "metadata": {},
   "source": [
    "### Loss Function and Optimizer\n",
    "\n",
    "** Creating a Mean Squared Error Loss Function and use it to minimize an AdamOptimizer **"
   ]
  },
  {
   "cell_type": "code",
   "execution_count": 19,
   "metadata": {},
   "outputs": [],
   "source": [
    "loss = tf.reduce_mean(tf.square(outputs - y)) # MSE\n",
    "optimizer = tf.train.AdamOptimizer(learning_rate=learning_rate)\n",
    "train = optimizer.minimize(loss)"
   ]
  },
  {
   "cell_type": "markdown",
   "metadata": {},
   "source": [
    "** Initialize the global variables **"
   ]
  },
  {
   "cell_type": "code",
   "execution_count": 20,
   "metadata": {},
   "outputs": [],
   "source": [
    "init = tf.global_variables_initializer()"
   ]
  },
  {
   "cell_type": "markdown",
   "metadata": {},
   "source": [
    "** Create an instance of tf.train.Saver() **"
   ]
  },
  {
   "cell_type": "code",
   "execution_count": 21,
   "metadata": {},
   "outputs": [],
   "source": [
    "saver = tf.train.Saver()"
   ]
  },
  {
   "cell_type": "markdown",
   "metadata": {},
   "source": [
    "### Session\n",
    "\n",
    "** Run a tf.Session that trains on the batches created by your next_batch function. "
   ]
  },
  {
   "cell_type": "code",
   "execution_count": 22,
   "metadata": {},
   "outputs": [],
   "source": [
    "gpu_options = tf.GPUOptions(per_process_gpu_memory_fraction=0.9)"
   ]
  },
  {
   "cell_type": "code",
   "execution_count": 34,
   "metadata": {},
   "outputs": [
    {
     "name": "stdout",
     "output_type": "stream",
     "text": [
      "0 \tMSE: 0.68042856\n",
      "100 \tMSE: 0.0179745\n",
      "200 \tMSE: 0.030168453\n",
      "300 \tMSE: 0.016423011\n",
      "400 \tMSE: 0.0073824283\n",
      "500 \tMSE: 0.010250275\n",
      "600 \tMSE: 0.010332586\n",
      "700 \tMSE: 0.009100046\n",
      "800 \tMSE: 0.0070341174\n",
      "900 \tMSE: 0.0063884393\n",
      "1000 \tMSE: 0.0070940107\n",
      "1100 \tMSE: 0.005981448\n",
      "1200 \tMSE: 0.0059328107\n",
      "1300 \tMSE: 0.0041202875\n",
      "1400 \tMSE: 0.010992941\n",
      "1500 \tMSE: 0.0050532683\n",
      "1600 \tMSE: 0.008750737\n",
      "1700 \tMSE: 0.008552004\n",
      "1800 \tMSE: 0.004494438\n",
      "1900 \tMSE: 0.004390808\n",
      "2000 \tMSE: 0.0055886824\n",
      "2100 \tMSE: 0.0060071475\n",
      "2200 \tMSE: 0.0031327936\n",
      "2300 \tMSE: 0.0064486773\n",
      "2400 \tMSE: 0.0020885866\n",
      "2500 \tMSE: 0.0070863185\n",
      "2600 \tMSE: 0.0049921176\n",
      "2700 \tMSE: 0.0020722158\n",
      "2800 \tMSE: 0.0064011263\n",
      "2900 \tMSE: 0.0049923253\n",
      "3000 \tMSE: 0.006034589\n",
      "3100 \tMSE: 0.0055875634\n",
      "3200 \tMSE: 0.0042533507\n",
      "3300 \tMSE: 0.0021946847\n",
      "3400 \tMSE: 0.0013587618\n",
      "3500 \tMSE: 0.0040425537\n",
      "3600 \tMSE: 0.002600125\n",
      "3700 \tMSE: 0.002372396\n",
      "3800 \tMSE: 0.0036193095\n",
      "3900 \tMSE: 0.0060563963\n"
     ]
    }
   ],
   "source": [
    "with tf.Session(config=tf.ConfigProto(gpu_options=gpu_options)) as sess:\n",
    "    sess.run(init)\n",
    "    \n",
    "    for iteration in range(num_train_iterations):\n",
    "        \n",
    "        X_batch, y_batch = next_batch(train_scaled,batch_size,num_time_steps)\n",
    "        sess.run(train, feed_dict={X: X_batch, y: y_batch})\n",
    "        \n",
    "        if iteration % 100 == 0:\n",
    "            \n",
    "            mse = loss.eval(feed_dict={X: X_batch, y: y_batch})\n",
    "            print(iteration, \"\\tMSE:\", mse) \n",
    "    \n",
    "    # Save Model for Later\n",
    "    saver.save(sess, \"./rnn_model\")"
   ]
  },
  {
   "cell_type": "markdown",
   "metadata": {},
   "source": [
    "## Predicting Future (Test Data)"
   ]
  },
  {
   "cell_type": "code",
   "execution_count": 24,
   "metadata": {},
   "outputs": [
    {
     "data": {
      "text/html": [
       "<div>\n",
       "<style scoped>\n",
       "    .dataframe tbody tr th:only-of-type {\n",
       "        vertical-align: middle;\n",
       "    }\n",
       "\n",
       "    .dataframe tbody tr th {\n",
       "        vertical-align: top;\n",
       "    }\n",
       "\n",
       "    .dataframe thead th {\n",
       "        text-align: right;\n",
       "    }\n",
       "</style>\n",
       "<table border=\"1\" class=\"dataframe\">\n",
       "  <thead>\n",
       "    <tr style=\"text-align: right;\">\n",
       "      <th></th>\n",
       "      <th></th>\n",
       "      <th></th>\n",
       "      <th></th>\n",
       "      <th></th>\n",
       "      <th></th>\n",
       "      <th></th>\n",
       "      <th>target</th>\n",
       "    </tr>\n",
       "    <tr>\n",
       "      <th>f1</th>\n",
       "      <th>f2</th>\n",
       "      <th>f3</th>\n",
       "      <th>f4</th>\n",
       "      <th>f5</th>\n",
       "      <th>f6</th>\n",
       "      <th>f7</th>\n",
       "      <th></th>\n",
       "    </tr>\n",
       "  </thead>\n",
       "  <tbody>\n",
       "    <tr>\n",
       "      <th>9723.91</th>\n",
       "      <th>303.024117</th>\n",
       "      <th>214.896544</th>\n",
       "      <th>62</th>\n",
       "      <th>575067</th>\n",
       "      <th>9179</th>\n",
       "      <th>13526</th>\n",
       "      <td>13603500.40</td>\n",
       "    </tr>\n",
       "    <tr>\n",
       "      <th>9142.20</th>\n",
       "      <th>303.257142</th>\n",
       "      <th>200.692977</th>\n",
       "      <th>42</th>\n",
       "      <th>858090</th>\n",
       "      <th>6299</th>\n",
       "      <th>63147</th>\n",
       "      <td>12870037.65</td>\n",
       "    </tr>\n",
       "    <tr>\n",
       "      <th>9827.00</th>\n",
       "      <th>303.503108</th>\n",
       "      <th>209.543158</th>\n",
       "      <th>98</th>\n",
       "      <th>583674</th>\n",
       "      <th>9475</th>\n",
       "      <th>87913</th>\n",
       "      <td>12435384.25</td>\n",
       "    </tr>\n",
       "    <tr>\n",
       "      <th>9453.97</th>\n",
       "      <th>309.632061</th>\n",
       "      <th>0.000000</th>\n",
       "      <th>72</th>\n",
       "      <th>80057</th>\n",
       "      <th>5722</th>\n",
       "      <th>60874</th>\n",
       "      <td>18873713.54</td>\n",
       "    </tr>\n",
       "    <tr>\n",
       "      <th>9028.74</th>\n",
       "      <th>304.188221</th>\n",
       "      <th>0.000000</th>\n",
       "      <th>0</th>\n",
       "      <th>906800</th>\n",
       "      <th>6765</th>\n",
       "      <th>99080</th>\n",
       "      <td>21486591.24</td>\n",
       "    </tr>\n",
       "    <tr>\n",
       "      <th>9756.41</th>\n",
       "      <th>304.672138</th>\n",
       "      <th>0.000000</th>\n",
       "      <th>0</th>\n",
       "      <th>659647</th>\n",
       "      <th>2383</th>\n",
       "      <th>32182</th>\n",
       "      <td>12725661.20</td>\n",
       "    </tr>\n",
       "    <tr>\n",
       "      <th>9473.25</th>\n",
       "      <th>302.612778</th>\n",
       "      <th>0.000000</th>\n",
       "      <th>0</th>\n",
       "      <th>678604</th>\n",
       "      <th>9611</th>\n",
       "      <th>79192</th>\n",
       "      <td>11233096.61</td>\n",
       "    </tr>\n",
       "    <tr>\n",
       "      <th>9618.86</th>\n",
       "      <th>308.633896</th>\n",
       "      <th>0.000000</th>\n",
       "      <th>0</th>\n",
       "      <th>653582</th>\n",
       "      <th>5743</th>\n",
       "      <th>62402</th>\n",
       "      <td>11744374.60</td>\n",
       "    </tr>\n",
       "    <tr>\n",
       "      <th>9607.02</th>\n",
       "      <th>305.427254</th>\n",
       "      <th>0.000000</th>\n",
       "      <th>0</th>\n",
       "      <th>481701</th>\n",
       "      <th>3106</th>\n",
       "      <th>1785</th>\n",
       "      <td>11283094.68</td>\n",
       "    </tr>\n",
       "    <tr>\n",
       "      <th>9052.34</th>\n",
       "      <th>309.576459</th>\n",
       "      <th>0.000000</th>\n",
       "      <th>46</th>\n",
       "      <th>340903</th>\n",
       "      <th>3607</th>\n",
       "      <th>95004</th>\n",
       "      <td>10611765.88</td>\n",
       "    </tr>\n",
       "    <tr>\n",
       "      <th>9703.46</th>\n",
       "      <th>302.369220</th>\n",
       "      <th>211.563436</th>\n",
       "      <th>0</th>\n",
       "      <th>408069</th>\n",
       "      <th>7662</th>\n",
       "      <th>30481</th>\n",
       "      <td>12194115.68</td>\n",
       "    </tr>\n",
       "    <tr>\n",
       "      <th>9629.84</th>\n",
       "      <th>301.303529</th>\n",
       "      <th>201.946681</th>\n",
       "      <th>0</th>\n",
       "      <th>644869</th>\n",
       "      <th>9477</th>\n",
       "      <th>68078</th>\n",
       "      <td>23661994.96</td>\n",
       "    </tr>\n",
       "    <tr>\n",
       "      <th>9627.00</th>\n",
       "      <th>309.047095</th>\n",
       "      <th>206.343116</th>\n",
       "      <th>135</th>\n",
       "      <th>954225</th>\n",
       "      <th>9313</th>\n",
       "      <th>11027</th>\n",
       "      <td>25836488.87</td>\n",
       "    </tr>\n",
       "    <tr>\n",
       "      <th>9383.14</th>\n",
       "      <th>307.110770</th>\n",
       "      <th>214.166529</th>\n",
       "      <th>0</th>\n",
       "      <th>369265</th>\n",
       "      <th>1065</th>\n",
       "      <th>17994</th>\n",
       "      <td>13342870.57</td>\n",
       "    </tr>\n",
       "    <tr>\n",
       "      <th>9874.20</th>\n",
       "      <th>306.638108</th>\n",
       "      <th>204.077742</th>\n",
       "      <th>0</th>\n",
       "      <th>425708</th>\n",
       "      <th>9508</th>\n",
       "      <th>22263</th>\n",
       "      <td>14238653.64</td>\n",
       "    </tr>\n",
       "  </tbody>\n",
       "</table>\n",
       "</div>"
      ],
      "text/plain": [
       "                                                          target\n",
       "f1      f2         f3         f4  f5     f6   f7                \n",
       "9723.91 303.024117 214.896544 62  575067 9179 13526  13603500.40\n",
       "9142.20 303.257142 200.692977 42  858090 6299 63147  12870037.65\n",
       "9827.00 303.503108 209.543158 98  583674 9475 87913  12435384.25\n",
       "9453.97 309.632061 0.000000   72  80057  5722 60874  18873713.54\n",
       "9028.74 304.188221 0.000000   0   906800 6765 99080  21486591.24\n",
       "9756.41 304.672138 0.000000   0   659647 2383 32182  12725661.20\n",
       "9473.25 302.612778 0.000000   0   678604 9611 79192  11233096.61\n",
       "9618.86 308.633896 0.000000   0   653582 5743 62402  11744374.60\n",
       "9607.02 305.427254 0.000000   0   481701 3106 1785   11283094.68\n",
       "9052.34 309.576459 0.000000   46  340903 3607 95004  10611765.88\n",
       "9703.46 302.369220 211.563436 0   408069 7662 30481  12194115.68\n",
       "9629.84 301.303529 201.946681 0   644869 9477 68078  23661994.96\n",
       "9627.00 309.047095 206.343116 135 954225 9313 11027  25836488.87\n",
       "9383.14 307.110770 214.166529 0   369265 1065 17994  13342870.57\n",
       "9874.20 306.638108 204.077742 0   425708 9508 22263  14238653.64"
      ]
     },
     "execution_count": 24,
     "metadata": {},
     "output_type": "execute_result"
    }
   ],
   "source": [
    "test_set"
   ]
  },
  {
   "cell_type": "markdown",
   "metadata": {},
   "source": [
    "** Now we want to predict these 15 target variables, using only the training data we had. To do this we need to feed in a seed training_instance of the last 15 target variables of the training_set of data to predict 15 target variables into the future. Then we will be able to compare our generated 15 target variables to our actual true historical values from the test set! **"
   ]
  },
  {
   "cell_type": "markdown",
   "metadata": {},
   "source": [
    "# Generative Session\n",
    "\n",
    "** Fill out the session code below to generate 15 target variables based off the last 15 target variables from the training set. \n",
    "This can be done by adjusting the arrays with their shapes and sizes."
   ]
  },
  {
   "cell_type": "code",
   "execution_count": 25,
   "metadata": {},
   "outputs": [
    {
     "name": "stdout",
     "output_type": "stream",
     "text": [
      "INFO:tensorflow:Restoring parameters from ./rnn_model\n"
     ]
    }
   ],
   "source": [
    "with tf.Session() as sess:\n",
    "    \n",
    "    # restore the saved rnn  model\n",
    "    saver.restore(sess, \"./rnn_model\")\n",
    "\n",
    "    # Create a numpy array for your genreative seed from the last 15 target variables of the \n",
    "    # training set data. \n",
    "    train_seed = list(train_scaled[-15:])\n",
    "    \n",
    "    ## Now create a for loop that \n",
    "    for iteration in range(15):\n",
    "        X_batch = np.array(train_seed[-num_time_steps:]).reshape(1, num_time_steps, 1)\n",
    "        y_pred = sess.run(outputs, feed_dict={X: X_batch})\n",
    "        train_seed.append(y_pred[0, -1, 0])"
   ]
  },
  {
   "cell_type": "markdown",
   "metadata": {},
   "source": [
    "** printing the result of the predictions. **"
   ]
  },
  {
   "cell_type": "code",
   "execution_count": 26,
   "metadata": {},
   "outputs": [
    {
     "data": {
      "text/plain": [
       "[array([0.56042165]),\n",
       " array([0.73997835]),\n",
       " array([0.5030186]),\n",
       " array([0.43439795]),\n",
       " array([0.32481126]),\n",
       " array([0.45979017]),\n",
       " array([0.47689422]),\n",
       " array([0.52361429]),\n",
       " array([0.47494621]),\n",
       " array([0.42068721]),\n",
       " array([0.56614358]),\n",
       " array([0.76005454]),\n",
       " array([0.51898855]),\n",
       " array([0.82133821]),\n",
       " array([1.]),\n",
       " 0.8769936,\n",
       " 1.161966,\n",
       " 1.2050059,\n",
       " 0.99989766,\n",
       " 1.2497258,\n",
       " 1.0744056,\n",
       " 0.9848388,\n",
       " 0.8824478,\n",
       " 0.72834855,\n",
       " 0.9230598,\n",
       " 0.5218018,\n",
       " 0.42582458,\n",
       " 0.4877572,\n",
       " 0.22413334,\n",
       " 0.17743148]"
      ]
     },
     "execution_count": 26,
     "metadata": {},
     "output_type": "execute_result"
    }
   ],
   "source": [
    "train_seed"
   ]
  },
  {
   "cell_type": "markdown",
   "metadata": {},
   "source": [
    "Apply inverse_transform on them to turn them back into original values"
   ]
  },
  {
   "cell_type": "code",
   "execution_count": 27,
   "metadata": {},
   "outputs": [],
   "source": [
    "results = scaler.inverse_transform(np.array(train_seed[15:]).reshape(15,1))"
   ]
  },
  {
   "cell_type": "markdown",
   "metadata": {},
   "source": [
    "** Create a new column on the test_set called \"Generated\" and set it equal to the generated results."
   ]
  },
  {
   "cell_type": "code",
   "execution_count": 28,
   "metadata": {},
   "outputs": [
    {
     "name": "stderr",
     "output_type": "stream",
     "text": [
      "C:\\Users\\Shyamprasad\\Anaconda3\\lib\\site-packages\\ipykernel_launcher.py:1: SettingWithCopyWarning: \n",
      "A value is trying to be set on a copy of a slice from a DataFrame.\n",
      "Try using .loc[row_indexer,col_indexer] = value instead\n",
      "\n",
      "See the caveats in the documentation: http://pandas.pydata.org/pandas-docs/stable/indexing.html#indexing-view-versus-copy\n",
      "  \"\"\"Entry point for launching an IPython kernel.\n"
     ]
    }
   ],
   "source": [
    "test_set['Generated'] = results"
   ]
  },
  {
   "cell_type": "code",
   "execution_count": 29,
   "metadata": {},
   "outputs": [
    {
     "data": {
      "text/html": [
       "<div>\n",
       "<style scoped>\n",
       "    .dataframe tbody tr th:only-of-type {\n",
       "        vertical-align: middle;\n",
       "    }\n",
       "\n",
       "    .dataframe tbody tr th {\n",
       "        vertical-align: top;\n",
       "    }\n",
       "\n",
       "    .dataframe thead th {\n",
       "        text-align: right;\n",
       "    }\n",
       "</style>\n",
       "<table border=\"1\" class=\"dataframe\">\n",
       "  <thead>\n",
       "    <tr style=\"text-align: right;\">\n",
       "      <th></th>\n",
       "      <th></th>\n",
       "      <th></th>\n",
       "      <th></th>\n",
       "      <th></th>\n",
       "      <th></th>\n",
       "      <th></th>\n",
       "      <th>target</th>\n",
       "      <th>Generated</th>\n",
       "    </tr>\n",
       "    <tr>\n",
       "      <th>f1</th>\n",
       "      <th>f2</th>\n",
       "      <th>f3</th>\n",
       "      <th>f4</th>\n",
       "      <th>f5</th>\n",
       "      <th>f6</th>\n",
       "      <th>f7</th>\n",
       "      <th></th>\n",
       "      <th></th>\n",
       "    </tr>\n",
       "  </thead>\n",
       "  <tbody>\n",
       "    <tr>\n",
       "      <th>9723.91</th>\n",
       "      <th>303.024117</th>\n",
       "      <th>214.896544</th>\n",
       "      <th>62</th>\n",
       "      <th>575067</th>\n",
       "      <th>9179</th>\n",
       "      <th>13526</th>\n",
       "      <td>13603500.40</td>\n",
       "      <td>14826744.0</td>\n",
       "    </tr>\n",
       "    <tr>\n",
       "      <th>9142.20</th>\n",
       "      <th>303.257142</th>\n",
       "      <th>200.692977</th>\n",
       "      <th>42</th>\n",
       "      <th>858090</th>\n",
       "      <th>6299</th>\n",
       "      <th>63147</th>\n",
       "      <td>12870037.65</td>\n",
       "      <td>16655951.0</td>\n",
       "    </tr>\n",
       "    <tr>\n",
       "      <th>9827.00</th>\n",
       "      <th>303.503108</th>\n",
       "      <th>209.543158</th>\n",
       "      <th>98</th>\n",
       "      <th>583674</th>\n",
       "      <th>9475</th>\n",
       "      <th>87913</th>\n",
       "      <td>12435384.25</td>\n",
       "      <td>16932220.0</td>\n",
       "    </tr>\n",
       "    <tr>\n",
       "      <th>9453.97</th>\n",
       "      <th>309.632061</th>\n",
       "      <th>0.000000</th>\n",
       "      <th>72</th>\n",
       "      <th>80057</th>\n",
       "      <th>5722</th>\n",
       "      <th>60874</th>\n",
       "      <td>18873713.54</td>\n",
       "      <td>15615652.0</td>\n",
       "    </tr>\n",
       "    <tr>\n",
       "      <th>9028.74</th>\n",
       "      <th>304.188221</th>\n",
       "      <th>0.000000</th>\n",
       "      <th>0</th>\n",
       "      <th>906800</th>\n",
       "      <th>6765</th>\n",
       "      <th>99080</th>\n",
       "      <td>21486591.24</td>\n",
       "      <td>17219272.0</td>\n",
       "    </tr>\n",
       "    <tr>\n",
       "      <th>9756.41</th>\n",
       "      <th>304.672138</th>\n",
       "      <th>0.000000</th>\n",
       "      <th>0</th>\n",
       "      <th>659647</th>\n",
       "      <th>2383</th>\n",
       "      <th>32182</th>\n",
       "      <td>12725661.20</td>\n",
       "      <td>16093909.0</td>\n",
       "    </tr>\n",
       "    <tr>\n",
       "      <th>9473.25</th>\n",
       "      <th>302.612778</th>\n",
       "      <th>0.000000</th>\n",
       "      <th>0</th>\n",
       "      <th>678604</th>\n",
       "      <th>9611</th>\n",
       "      <th>79192</th>\n",
       "      <td>11233096.61</td>\n",
       "      <td>15518990.0</td>\n",
       "    </tr>\n",
       "    <tr>\n",
       "      <th>9618.86</th>\n",
       "      <th>308.633896</th>\n",
       "      <th>0.000000</th>\n",
       "      <th>0</th>\n",
       "      <th>653582</th>\n",
       "      <th>5743</th>\n",
       "      <th>62402</th>\n",
       "      <td>11744374.60</td>\n",
       "      <td>14861753.0</td>\n",
       "    </tr>\n",
       "    <tr>\n",
       "      <th>9607.02</th>\n",
       "      <th>305.427254</th>\n",
       "      <th>0.000000</th>\n",
       "      <th>0</th>\n",
       "      <th>481701</th>\n",
       "      <th>3106</th>\n",
       "      <th>1785</th>\n",
       "      <td>11283094.68</td>\n",
       "      <td>13872606.0</td>\n",
       "    </tr>\n",
       "    <tr>\n",
       "      <th>9052.34</th>\n",
       "      <th>309.576459</th>\n",
       "      <th>0.000000</th>\n",
       "      <th>46</th>\n",
       "      <th>340903</th>\n",
       "      <th>3607</th>\n",
       "      <th>95004</th>\n",
       "      <td>10611765.88</td>\n",
       "      <td>15122437.0</td>\n",
       "    </tr>\n",
       "    <tr>\n",
       "      <th>9703.46</th>\n",
       "      <th>302.369220</th>\n",
       "      <th>211.563436</th>\n",
       "      <th>0</th>\n",
       "      <th>408069</th>\n",
       "      <th>7662</th>\n",
       "      <th>30481</th>\n",
       "      <td>12194115.68</td>\n",
       "      <td>12546805.0</td>\n",
       "    </tr>\n",
       "    <tr>\n",
       "      <th>9629.84</th>\n",
       "      <th>301.303529</th>\n",
       "      <th>201.946681</th>\n",
       "      <th>0</th>\n",
       "      <th>644869</th>\n",
       "      <th>9477</th>\n",
       "      <th>68078</th>\n",
       "      <td>23661994.96</td>\n",
       "      <td>11930737.0</td>\n",
       "    </tr>\n",
       "    <tr>\n",
       "      <th>9627.00</th>\n",
       "      <th>309.047095</th>\n",
       "      <th>206.343116</th>\n",
       "      <th>135</th>\n",
       "      <th>954225</th>\n",
       "      <th>9313</th>\n",
       "      <th>11027</th>\n",
       "      <td>25836488.87</td>\n",
       "      <td>12328276.0</td>\n",
       "    </tr>\n",
       "    <tr>\n",
       "      <th>9383.14</th>\n",
       "      <th>307.110770</th>\n",
       "      <th>214.166529</th>\n",
       "      <th>0</th>\n",
       "      <th>369265</th>\n",
       "      <th>1065</th>\n",
       "      <th>17994</th>\n",
       "      <td>13342870.57</td>\n",
       "      <td>10636102.0</td>\n",
       "    </tr>\n",
       "    <tr>\n",
       "      <th>9874.20</th>\n",
       "      <th>306.638108</th>\n",
       "      <th>204.077742</th>\n",
       "      <th>0</th>\n",
       "      <th>425708</th>\n",
       "      <th>9508</th>\n",
       "      <th>22263</th>\n",
       "      <td>14238653.64</td>\n",
       "      <td>10336328.0</td>\n",
       "    </tr>\n",
       "  </tbody>\n",
       "</table>\n",
       "</div>"
      ],
      "text/plain": [
       "                                                          target   Generated\n",
       "f1      f2         f3         f4  f5     f6   f7                            \n",
       "9723.91 303.024117 214.896544 62  575067 9179 13526  13603500.40  14826744.0\n",
       "9142.20 303.257142 200.692977 42  858090 6299 63147  12870037.65  16655951.0\n",
       "9827.00 303.503108 209.543158 98  583674 9475 87913  12435384.25  16932220.0\n",
       "9453.97 309.632061 0.000000   72  80057  5722 60874  18873713.54  15615652.0\n",
       "9028.74 304.188221 0.000000   0   906800 6765 99080  21486591.24  17219272.0\n",
       "9756.41 304.672138 0.000000   0   659647 2383 32182  12725661.20  16093909.0\n",
       "9473.25 302.612778 0.000000   0   678604 9611 79192  11233096.61  15518990.0\n",
       "9618.86 308.633896 0.000000   0   653582 5743 62402  11744374.60  14861753.0\n",
       "9607.02 305.427254 0.000000   0   481701 3106 1785   11283094.68  13872606.0\n",
       "9052.34 309.576459 0.000000   46  340903 3607 95004  10611765.88  15122437.0\n",
       "9703.46 302.369220 211.563436 0   408069 7662 30481  12194115.68  12546805.0\n",
       "9629.84 301.303529 201.946681 0   644869 9477 68078  23661994.96  11930737.0\n",
       "9627.00 309.047095 206.343116 135 954225 9313 11027  25836488.87  12328276.0\n",
       "9383.14 307.110770 214.166529 0   369265 1065 17994  13342870.57  10636102.0\n",
       "9874.20 306.638108 204.077742 0   425708 9508 22263  14238653.64  10336328.0"
      ]
     },
     "execution_count": 29,
     "metadata": {},
     "output_type": "execute_result"
    }
   ],
   "source": [
    "test_set"
   ]
  },
  {
   "cell_type": "code",
   "execution_count": 36,
   "metadata": {},
   "outputs": [
    {
     "data": {
      "text/plain": [
       "<matplotlib.axes._subplots.AxesSubplot at 0x16b0ffd7860>"
      ]
     },
     "execution_count": 36,
     "metadata": {},
     "output_type": "execute_result"
    },
    {
     "data": {
      "image/png": "[encoded data removed]",
      "text/plain": [
       "<Figure size 432x288 with 1 Axes>"
      ]
     },
     "metadata": {},
     "output_type": "display_data"
    }
   ],
   "source": [
    "data.plot()"
   ]
  },
  {
   "cell_type": "markdown",
   "metadata": {},
   "source": [
    "### Here we have less training samples and also I had taken last 15 data points as test set, which are more uneven(as comparing with 36 samples of train set) as we seen in above figure"
   ]
  },
  {
   "cell_type": "code",
   "execution_count": 37,
   "metadata": {},
   "outputs": [
    {
     "data": {
      "text/plain": [
       "<matplotlib.axes._subplots.AxesSubplot at 0x16b10051860>"
      ]
     },
     "execution_count": 37,
     "metadata": {},
     "output_type": "execute_result"
    },
    {
     "data": {
      "image/png": "[encoded data removed]",
      "text/plain": [
       "<Figure size 432x288 with 1 Axes>"
      ]
     },
     "metadata": {},
     "output_type": "display_data"
    }
   ],
   "source": [
    "test_set.plot()"
   ]
  },
  {
   "cell_type": "markdown",
   "metadata": {},
   "source": [
    "# Thank you....!"
   ]
  }
 ],
 "metadata": {
  "kernelspec": {
   "display_name": "Python 3",
   "language": "python",
   "name": "python3"
  },
  "language_info": {
   "codemirror_mode": {
    "name": "ipython",
    "version": 3
   },
   "file_extension": ".py",
   "mimetype": "text/x-python",
   "name": "python",
   "nbconvert_exporter": "python",
   "pygments_lexer": "ipython3",
   "version": "3.6.5"
  }
 },
 "nbformat": 4,
 "nbformat_minor": 2
}
